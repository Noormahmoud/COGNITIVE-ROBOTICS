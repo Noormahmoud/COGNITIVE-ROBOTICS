{
 "cells": [
  {
   "cell_type": "markdown",
   "metadata": {},
   "source": [
    "# Importing Libraries and Reading data"
   ]
  },
  {
   "cell_type": "code",
   "execution_count": 1,
   "metadata": {},
   "outputs": [],
   "source": [
    "import pandas as pd\n",
    "import numpy as np\n",
    "import matplotlib.pyplot as plt\n",
    "import seaborn as sns"
   ]
  },
  {
   "cell_type": "code",
   "execution_count": 2,
   "metadata": {},
   "outputs": [
    {
     "name": "stdout",
     "output_type": "stream",
     "text": [
      "       Sex  Age  Finger  Earlobe    Arm\n",
      "0     Male   59     100       94  109.8\n",
      "1     Male   55     293      277  302.4\n",
      "2     Male   39     104       97  106.2\n",
      "3     Male   65     122      119  127.8\n",
      "4     Male   54      94       96  100.8\n",
      "5   Female   50     118      120  127.8\n",
      "6     Male   43      84       83   81.0\n",
      "7     Male   63      84       81   97.2\n",
      "8     Male   63      79       78   93.6\n",
      "9     Male   52     100      115  118.8\n",
      "10  Female   62     105       99   99.0\n",
      "11  Female   48     143      140  149.4\n",
      "12  Female   63     120      116  120.6\n",
      "13    Male   41      94       80   81.0\n",
      "14  Female   43     114      107  109.8\n",
      "15  Female   77     176      171  169.2\n",
      "16    Male   49      90      108  104.4\n",
      "17    Male   25      99       93   88.2\n",
      "18  Female   43     149      140  138.6\n",
      "19  Female   48     245      256  261.0\n",
      "20  Female   72      92       98  111.6\n",
      "21    Male   53     145      148  149.4\n",
      "22  Female   21      89       86   77.4\n",
      "23  Female   58     146      131  144.0\n",
      "24  Female   65     120      110  124.2\n",
      "25  Female   34     167      171  180.0\n",
      "26  Female   45     246      229  239.4\n",
      "27  Female   52     155      154  156.6\n",
      "28  Female   72     108      104  108.0\n",
      "29  Female   50     380      380  378.0\n",
      "30  Female   59     265      277  273.6\n",
      "31  Female   45      96       93   91.8\n",
      "32  Female   34     108       92   88.2\n",
      "33  Female   64      76       78   77.4\n",
      "34  Female   25     189      154  165.6\n",
      "35  Female   25      88       86   77.4\n",
      "36    Male   22      95       93   84.6\n",
      "37    Male   63     223      228  226.8\n",
      "38    Male   58      99      105   81.0\n",
      "39    Male   35      80       77   75.6\n",
      "40    Male   43     197      187  190.8\n",
      "41    Male   56      89       88  100.8\n",
      "42    Male   22     127      117  120.6\n",
      "43    Male   53      90       92  111.6\n",
      "44    Male   43      95       89   88.2\n",
      "45    Male   51      88       87   81.0\n",
      "46    Male   71     261      267  271.8\n",
      "47    Male   48     133      127  133.2\n",
      "48    Male   64     109       98  100.8\n",
      "49    Male   42      91       80   84.6\n"
     ]
    }
   ],
   "source": [
    "# Reading data using pandas\n",
    "data = pd.read_csv(\"Earloobe_data_Copy.csv\")\n",
    "\n",
    "df = pd.DataFrame(data)\n",
    "print(df)"
   ]
  },
  {
   "cell_type": "code",
   "execution_count": 3,
   "metadata": {},
   "outputs": [
    {
     "data": {
      "text/html": [
       "<div>\n",
       "<style scoped>\n",
       "    .dataframe tbody tr th:only-of-type {\n",
       "        vertical-align: middle;\n",
       "    }\n",
       "\n",
       "    .dataframe tbody tr th {\n",
       "        vertical-align: top;\n",
       "    }\n",
       "\n",
       "    .dataframe thead th {\n",
       "        text-align: right;\n",
       "    }\n",
       "</style>\n",
       "<table border=\"1\" class=\"dataframe\">\n",
       "  <thead>\n",
       "    <tr style=\"text-align: right;\">\n",
       "      <th></th>\n",
       "      <th>Age</th>\n",
       "      <th>Finger</th>\n",
       "      <th>Earlobe</th>\n",
       "      <th>Arm</th>\n",
       "    </tr>\n",
       "  </thead>\n",
       "  <tbody>\n",
       "    <tr>\n",
       "      <th>count</th>\n",
       "      <td>50.000000</td>\n",
       "      <td>50.000000</td>\n",
       "      <td>50.000000</td>\n",
       "      <td>50.00000</td>\n",
       "    </tr>\n",
       "    <tr>\n",
       "      <th>mean</th>\n",
       "      <td>49.740000</td>\n",
       "      <td>135.200000</td>\n",
       "      <td>131.920000</td>\n",
       "      <td>135.61200</td>\n",
       "    </tr>\n",
       "    <tr>\n",
       "      <th>std</th>\n",
       "      <td>14.131756</td>\n",
       "      <td>65.487185</td>\n",
       "      <td>65.767631</td>\n",
       "      <td>67.12326</td>\n",
       "    </tr>\n",
       "    <tr>\n",
       "      <th>min</th>\n",
       "      <td>21.000000</td>\n",
       "      <td>76.000000</td>\n",
       "      <td>77.000000</td>\n",
       "      <td>75.60000</td>\n",
       "    </tr>\n",
       "    <tr>\n",
       "      <th>25%</th>\n",
       "      <td>43.000000</td>\n",
       "      <td>92.500000</td>\n",
       "      <td>92.000000</td>\n",
       "      <td>89.10000</td>\n",
       "    </tr>\n",
       "    <tr>\n",
       "      <th>50%</th>\n",
       "      <td>50.500000</td>\n",
       "      <td>108.000000</td>\n",
       "      <td>106.000000</td>\n",
       "      <td>110.70000</td>\n",
       "    </tr>\n",
       "    <tr>\n",
       "      <th>75%</th>\n",
       "      <td>61.250000</td>\n",
       "      <td>148.250000</td>\n",
       "      <td>146.000000</td>\n",
       "      <td>149.40000</td>\n",
       "    </tr>\n",
       "    <tr>\n",
       "      <th>max</th>\n",
       "      <td>77.000000</td>\n",
       "      <td>380.000000</td>\n",
       "      <td>380.000000</td>\n",
       "      <td>378.00000</td>\n",
       "    </tr>\n",
       "  </tbody>\n",
       "</table>\n",
       "</div>"
      ],
      "text/plain": [
       "             Age      Finger     Earlobe        Arm\n",
       "count  50.000000   50.000000   50.000000   50.00000\n",
       "mean   49.740000  135.200000  131.920000  135.61200\n",
       "std    14.131756   65.487185   65.767631   67.12326\n",
       "min    21.000000   76.000000   77.000000   75.60000\n",
       "25%    43.000000   92.500000   92.000000   89.10000\n",
       "50%    50.500000  108.000000  106.000000  110.70000\n",
       "75%    61.250000  148.250000  146.000000  149.40000\n",
       "max    77.000000  380.000000  380.000000  378.00000"
      ]
     },
     "execution_count": 3,
     "metadata": {},
     "output_type": "execute_result"
    }
   ],
   "source": [
    "df.describe()"
   ]
  },
  {
   "cell_type": "code",
   "execution_count": 4,
   "metadata": {},
   "outputs": [
    {
     "data": {
      "text/html": [
       "<div>\n",
       "<style scoped>\n",
       "    .dataframe tbody tr th:only-of-type {\n",
       "        vertical-align: middle;\n",
       "    }\n",
       "\n",
       "    .dataframe tbody tr th {\n",
       "        vertical-align: top;\n",
       "    }\n",
       "\n",
       "    .dataframe thead th {\n",
       "        text-align: right;\n",
       "    }\n",
       "</style>\n",
       "<table border=\"1\" class=\"dataframe\">\n",
       "  <thead>\n",
       "    <tr style=\"text-align: right;\">\n",
       "      <th></th>\n",
       "      <th>Sex</th>\n",
       "      <th>Age</th>\n",
       "      <th>Finger</th>\n",
       "      <th>Earlobe</th>\n",
       "      <th>Arm</th>\n",
       "    </tr>\n",
       "  </thead>\n",
       "  <tbody>\n",
       "    <tr>\n",
       "      <th>45</th>\n",
       "      <td>Male</td>\n",
       "      <td>51</td>\n",
       "      <td>88</td>\n",
       "      <td>87</td>\n",
       "      <td>81.0</td>\n",
       "    </tr>\n",
       "    <tr>\n",
       "      <th>46</th>\n",
       "      <td>Male</td>\n",
       "      <td>71</td>\n",
       "      <td>261</td>\n",
       "      <td>267</td>\n",
       "      <td>271.8</td>\n",
       "    </tr>\n",
       "    <tr>\n",
       "      <th>47</th>\n",
       "      <td>Male</td>\n",
       "      <td>48</td>\n",
       "      <td>133</td>\n",
       "      <td>127</td>\n",
       "      <td>133.2</td>\n",
       "    </tr>\n",
       "    <tr>\n",
       "      <th>48</th>\n",
       "      <td>Male</td>\n",
       "      <td>64</td>\n",
       "      <td>109</td>\n",
       "      <td>98</td>\n",
       "      <td>100.8</td>\n",
       "    </tr>\n",
       "    <tr>\n",
       "      <th>49</th>\n",
       "      <td>Male</td>\n",
       "      <td>42</td>\n",
       "      <td>91</td>\n",
       "      <td>80</td>\n",
       "      <td>84.6</td>\n",
       "    </tr>\n",
       "  </tbody>\n",
       "</table>\n",
       "</div>"
      ],
      "text/plain": [
       "     Sex  Age  Finger  Earlobe    Arm\n",
       "45  Male   51      88       87   81.0\n",
       "46  Male   71     261      267  271.8\n",
       "47  Male   48     133      127  133.2\n",
       "48  Male   64     109       98  100.8\n",
       "49  Male   42      91       80   84.6"
      ]
     },
     "execution_count": 4,
     "metadata": {},
     "output_type": "execute_result"
    }
   ],
   "source": [
    "df.tail()"
   ]
  },
  {
   "cell_type": "code",
   "execution_count": 5,
   "metadata": {},
   "outputs": [
    {
     "data": {
      "text/plain": [
       "(50, 5)"
      ]
     },
     "execution_count": 5,
     "metadata": {},
     "output_type": "execute_result"
    }
   ],
   "source": [
    "df.shape"
   ]
  },
  {
   "cell_type": "markdown",
   "metadata": {},
   "source": [
    "Let's see the correlation between the parameters we have."
   ]
  },
  {
   "cell_type": "code",
   "execution_count": 9,
   "metadata": {},
   "outputs": [
    {
     "data": {
      "text/plain": [
       "<matplotlib.collections.PathCollection at 0x23e5d770550>"
      ]
     },
     "execution_count": 9,
     "metadata": {},
     "output_type": "execute_result"
    },
    {
     "data": {
      "image/png": "[encoded data removed]",
      "text/plain": [
       "<Figure size 432x288 with 1 Axes>"
      ]
     },
     "metadata": {
      "needs_background": "light"
     },
     "output_type": "display_data"
    }
   ],
   "source": [
    "# PLotting the parameters\n",
    "plt.xlabel(\"Earlobe\")\n",
    "plt.ylabel(\"Arm\")\n",
    "plt.scatter(df['Earlobe'],df['Arm'],s=50, c=df.Finger, cmap='RdYlBu')\n"
   ]
  },
  {
   "cell_type": "markdown",
   "metadata": {},
   "source": [
    "We need to convert our data into arrays for easier matrix calculation "
   ]
  },
  {
   "cell_type": "code",
   "execution_count": 10,
   "metadata": {},
   "outputs": [],
   "source": [
    "x_data = data.drop(['Arm','Sex','Age','Finger'],axis=1)\n",
    "x_data = np.array(x_data)\n",
    "x_data = x_data.reshape(-1,1)"
   ]
  },
  {
   "cell_type": "code",
   "execution_count": 11,
   "metadata": {},
   "outputs": [],
   "source": [
    "ones = np.ones([x_data.shape[0], 1])"
   ]
  },
  {
   "cell_type": "code",
   "execution_count": 12,
   "metadata": {},
   "outputs": [],
   "source": [
    "X = np.concatenate([ones, x_data],1)"
   ]
  },
  {
   "cell_type": "code",
   "execution_count": 13,
   "metadata": {},
   "outputs": [
    {
     "data": {
      "text/plain": [
       "(50, 2)"
      ]
     },
     "execution_count": 13,
     "metadata": {},
     "output_type": "execute_result"
    }
   ],
   "source": [
    "X.shape"
   ]
  },
  {
   "cell_type": "code",
   "execution_count": 14,
   "metadata": {},
   "outputs": [],
   "source": [
    "y_data = df.drop(['Age','Finger','Earlobe','Sex'],axis =1)\n",
    "y_data = np.array(y_data)\n",
    "Y = y_data.reshape(-1,1)"
   ]
  },
  {
   "cell_type": "code",
   "execution_count": 15,
   "metadata": {},
   "outputs": [
    {
     "data": {
      "text/plain": [
       "(50, 1)"
      ]
     },
     "execution_count": 15,
     "metadata": {},
     "output_type": "execute_result"
    }
   ],
   "source": [
    "Y.shape"
   ]
  },
  {
   "cell_type": "markdown",
   "metadata": {},
   "source": [
    "Now let's get down to the main business."
   ]
  },
  {
   "cell_type": "markdown",
   "metadata": {},
   "source": [
    "## Method 2 - Using Ordinary Least Mean Square Method"
   ]
  },
  {
   "cell_type": "code",
   "execution_count": 22,
   "metadata": {},
   "outputs": [],
   "source": [
    "# Method 2\n",
    "x_mean = np.mean(x_data)\n",
    "y_mean = np.mean(Y)"
   ]
  },
  {
   "cell_type": "code",
   "execution_count": 23,
   "metadata": {},
   "outputs": [],
   "source": [
    "numerator = 0\n",
    "denominator = 0"
   ]
  },
  {
   "cell_type": "code",
   "execution_count": 24,
   "metadata": {},
   "outputs": [],
   "source": [
    "for i in range(len(X)):\n",
    "    numerator += (x_data[i] - x_mean) * (Y[i] - y_mean)\n",
    "    denominator += (x_data[i] - x_mean) ** 2"
   ]
  },
  {
   "cell_type": "code",
   "execution_count": 25,
   "metadata": {},
   "outputs": [],
   "source": [
    "theta1 = numerator/denominator\n",
    "theta0 = y_mean - (theta1 * x_mean)"
   ]
  },
  {
   "cell_type": "code",
   "execution_count": 26,
   "metadata": {},
   "outputs": [],
   "source": [
    "# Plotting Values and Regression Line\n",
    "max_x = np.max(X) + 10\n",
    "min_x = np.min(X) - 10"
   ]
  },
  {
   "cell_type": "code",
   "execution_count": 27,
   "metadata": {},
   "outputs": [],
   "source": [
    "# Calculating line values x and y\n",
    "x = np.linspace(min_x, max_x, 1000)\n",
    "y = theta0 + theta1 * x "
   ]
  },
  {
   "cell_type": "code",
   "execution_count": 28,
   "metadata": {},
   "outputs": [
    {
     "data": {
      "image/png": "[encoded data removed]",
      "text/plain": [
       "<Figure size 432x288 with 1 Axes>"
      ]
     },
     "metadata": {
      "needs_background": "light"
     },
     "output_type": "display_data"
    }
   ],
   "source": [
    "# Ploting Line\n",
    "plt.plot(x, y, color='red', label='Regression Line')\n",
    "# Ploting Scatter Points\n",
    "plt.scatter(x_data, Y, label='Scatter Plot')\n",
    "plt.legend()\n",
    "plt.show()"
   ]
  },
  {
   "cell_type": "markdown",
   "metadata": {},
   "source": [
    "We need to able to measure how good our model is (accuracy). There are many methods to achieve this but we would implement Root mean squared error and coefficient of Determination (R² Score)."
   ]
  },
  {
   "cell_type": "code",
   "execution_count": 29,
   "metadata": {},
   "outputs": [
    {
     "name": "stdout",
     "output_type": "stream",
     "text": [
      "[8.45230984]\n"
     ]
    }
   ],
   "source": [
    "#Root Mean Squared Error\n",
    "\n",
    "rmse = 0\n",
    "for i in range(len(x_data)):\n",
    "    y_pred=  theta0 + theta1* x_data[i]\n",
    "    rmse += (Y[i] - y_pred) ** 2\n",
    "    \n",
    "rmse = np.sqrt(rmse/len(x_data))\n",
    "print(rmse)"
   ]
  },
  {
   "cell_type": "code",
   "execution_count": 30,
   "metadata": {},
   "outputs": [
    {
     "name": "stdout",
     "output_type": "stream",
     "text": [
      "[0.98381999]\n"
     ]
    }
   ],
   "source": [
    "# R² Score\n",
    "sumofsquares = 0\n",
    "sumofresiduals = 0\n",
    "for i in range(len(x_data)) :\n",
    "    y_pred = theta0 + theta1 * x_data[i]\n",
    "    sumofsquares += (Y[i] - y_mean) ** 2\n",
    "    sumofresiduals += (Y[i] - y_pred) **2\n",
    "    \n",
    "score  = 1 - (sumofresiduals/sumofsquares)\n",
    "print(score)"
   ]
  },
  {
   "cell_type": "markdown",
   "metadata": {},
   "source": [
    "0.99 is pretty high and we can see from the graph too how well the line fits the data points"
   ]
  },
  {
   "cell_type": "markdown",
   "metadata": {},
   "source": [
    "#### Conclusion of the comparison of the two methods - \n",
    "Gradient descent method will consume more the than the other one as we have iterate thousands of times to get the Global Minima."
   ]
  },
  {
   "cell_type": "markdown",
   "metadata": {},
   "source": [
    "### Here are some key terms we learned —\n",
    "\n",
    "**Simple linear regression** — Finds the relationship between two variables that are linearly correlated. E.g. finding the relationship between the size of a house and the price of a house\n",
    "\n",
    "**Linear relationship** — When you plot the dataset on a graph, the data lies approximately in the shape of a straight line.\n",
    "\n",
    "**Linear equation** — y = mx +b. The standard form that represents a straight line on a graph, where m represents the gradient, and b represents the y-intercept.\n",
    "\n",
    "**Gradient** — How steep the line is\n",
    "\n",
    "**Y-intercept** — Where the line crosses the y-axis\n",
    "\n",
    "**Cost function** — Calculates the total error of your line\n",
    "\n",
    "**Minimizing the cost function** — Reducing the value of the cost function until the error is minimized.\n",
    "\n",
    "**Learning rate (alpha (α))** — A small number that allows the parameters to be updated by a tiny amount."
   ]
  },
  {
   "cell_type": "code",
   "execution_count": null,
   "metadata": {},
   "outputs": [],
   "source": []
  }
 ],
 "metadata": {
  "kernelspec": {
   "display_name": "Python 3 (ipykernel)",
   "language": "python",
   "name": "python3"
  },
  "language_info": {
   "codemirror_mode": {
    "name": "ipython",
    "version": 3
   },
   "file_extension": ".py",
   "mimetype": "text/x-python",
   "name": "python",
   "nbconvert_exporter": "python",
   "pygments_lexer": "ipython3",
   "version": "3.9.7"
  }
 },
 "nbformat": 4,
 "nbformat_minor": 4
}
